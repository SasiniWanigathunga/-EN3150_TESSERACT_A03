{
 "cells": [
  {
   "cell_type": "code",
   "execution_count": 1,
   "id": "975b30be",
   "metadata": {
    "_cell_guid": "b1076dfc-b9ad-4769-8c92-a6c4dae69d19",
    "_uuid": "8f2839f25d086af736a60e9eeb907d3b93b6e0e5",
    "execution": {
     "iopub.execute_input": "2023-12-03T15:17:13.719532Z",
     "iopub.status.busy": "2023-12-03T15:17:13.719157Z",
     "iopub.status.idle": "2023-12-03T15:17:18.097320Z",
     "shell.execute_reply": "2023-12-03T15:17:18.096279Z"
    },
    "papermill": {
     "duration": 4.385741,
     "end_time": "2023-12-03T15:17:18.099670",
     "exception": false,
     "start_time": "2023-12-03T15:17:13.713929",
     "status": "completed"
    },
    "tags": []
   },
   "outputs": [
    {
     "name": "stderr",
     "output_type": "stream",
     "text": [
      "/opt/conda/lib/python3.10/site-packages/scipy/__init__.py:146: UserWarning: A NumPy version >=1.16.5 and <1.23.0 is required for this version of SciPy (detected version 1.24.3\n",
      "  warnings.warn(f\"A NumPy version >={np_minversion} and <{np_maxversion}\"\n"
     ]
    }
   ],
   "source": [
    "import torch\n",
    "import torch.nn as nn\n",
    "import torch.optim as optim\n",
    "import torchvision\n",
    "import torchvision.models as models\n",
    "import torch.nn.functional as F\n",
    "import torchvision.transforms as transforms\n",
    "from sklearn.metrics import confusion_matrix,precision_score,recall_score\n",
    "import numpy as np\n",
    "import matplotlib.pyplot as plt\n",
    "import torch.nn.functional as F\n",
    "from torch.utils.data import random_split"
   ]
  },
  {
   "cell_type": "code",
   "execution_count": 2,
   "id": "0acc006d",
   "metadata": {
    "execution": {
     "iopub.execute_input": "2023-12-03T15:17:18.107966Z",
     "iopub.status.busy": "2023-12-03T15:17:18.107562Z",
     "iopub.status.idle": "2023-12-03T15:17:18.112178Z",
     "shell.execute_reply": "2023-12-03T15:17:18.111362Z"
    },
    "papermill": {
     "duration": 0.010782,
     "end_time": "2023-12-03T15:17:18.114149",
     "exception": false,
     "start_time": "2023-12-03T15:17:18.103367",
     "status": "completed"
    },
    "tags": []
   },
   "outputs": [],
   "source": [
    "# Define data transformations ( optional , but recommended )\n",
    "transform = transforms.Compose([\n",
    "    transforms.ToTensor(),\n",
    "    transforms.Normalize((0.5, 0.5, 0.5), (0.5, 0.5, 0.5))])"
   ]
  },
  {
   "cell_type": "code",
   "execution_count": 3,
   "id": "bce9bea7",
   "metadata": {
    "execution": {
     "iopub.execute_input": "2023-12-03T15:17:18.121678Z",
     "iopub.status.busy": "2023-12-03T15:17:18.121425Z",
     "iopub.status.idle": "2023-12-03T15:17:29.677818Z",
     "shell.execute_reply": "2023-12-03T15:17:29.676675Z"
    },
    "papermill": {
     "duration": 11.562411,
     "end_time": "2023-12-03T15:17:29.679832",
     "exception": false,
     "start_time": "2023-12-03T15:17:18.117421",
     "status": "completed"
    },
    "tags": []
   },
   "outputs": [
    {
     "name": "stdout",
     "output_type": "stream",
     "text": [
      "Downloading https://www.cs.toronto.edu/~kriz/cifar-10-python.tar.gz to ./data /cifar-10-python.tar.gz\n"
     ]
    },
    {
     "name": "stderr",
     "output_type": "stream",
     "text": [
      "100%|██████████| 170498071/170498071 [00:08<00:00, 20938508.75it/s]\n"
     ]
    },
    {
     "name": "stdout",
     "output_type": "stream",
     "text": [
      "Extracting ./data /cifar-10-python.tar.gz to ./data \n",
      "Dataset CIFAR10\n",
      "    Number of datapoints: 50000\n",
      "    Root location: ./data \n",
      "    Split: Train\n",
      "    StandardTransform\n",
      "Transform: Compose(\n",
      "               ToTensor()\n",
      "               Normalize(mean=(0.5, 0.5, 0.5), std=(0.5, 0.5, 0.5))\n",
      "           )\n"
     ]
    }
   ],
   "source": [
    "# Load the training dataset\n",
    "train_dataset = torchvision.datasets.CIFAR10(root ='./data ', train = True, transform = transform, download =True)\n",
    "print(train_dataset)"
   ]
  },
  {
   "cell_type": "code",
   "execution_count": 4,
   "id": "0a6f2534",
   "metadata": {
    "execution": {
     "iopub.execute_input": "2023-12-03T15:17:29.699569Z",
     "iopub.status.busy": "2023-12-03T15:17:29.699292Z",
     "iopub.status.idle": "2023-12-03T15:17:30.374503Z",
     "shell.execute_reply": "2023-12-03T15:17:30.373453Z"
    },
    "papermill": {
     "duration": 0.687287,
     "end_time": "2023-12-03T15:17:30.376582",
     "exception": false,
     "start_time": "2023-12-03T15:17:29.689295",
     "status": "completed"
    },
    "tags": []
   },
   "outputs": [
    {
     "name": "stdout",
     "output_type": "stream",
     "text": [
      "Files already downloaded and verified\n",
      "Dataset CIFAR10\n",
      "    Number of datapoints: 10000\n",
      "    Root location: ./data \n",
      "    Split: Test\n",
      "    StandardTransform\n",
      "Transform: Compose(\n",
      "               ToTensor()\n",
      "               Normalize(mean=(0.5, 0.5, 0.5), std=(0.5, 0.5, 0.5))\n",
      "           )\n"
     ]
    }
   ],
   "source": [
    "# Load the testing dataset\n",
    "test_dataset = torchvision.datasets.CIFAR10(root ='./data ', train = False, transform = transform, download =True)\n",
    "print(test_dataset)"
   ]
  },
  {
   "cell_type": "code",
   "execution_count": 5,
   "id": "4005a4fd",
   "metadata": {
    "execution": {
     "iopub.execute_input": "2023-12-03T15:17:30.396868Z",
     "iopub.status.busy": "2023-12-03T15:17:30.396564Z",
     "iopub.status.idle": "2023-12-03T15:17:30.456938Z",
     "shell.execute_reply": "2023-12-03T15:17:30.455765Z"
    },
    "papermill": {
     "duration": 0.072844,
     "end_time": "2023-12-03T15:17:30.458971",
     "exception": false,
     "start_time": "2023-12-03T15:17:30.386127",
     "status": "completed"
    },
    "tags": []
   },
   "outputs": [
    {
     "name": "stdout",
     "output_type": "stream",
     "text": [
      "Device: cuda\n"
     ]
    }
   ],
   "source": [
    "device = torch.device(\"cuda\" if torch.cuda.is_available() else \"cpu\")\n",
    "print(\"Device:\", device)"
   ]
  },
  {
   "cell_type": "code",
   "execution_count": 6,
   "id": "87d69dd8",
   "metadata": {
    "execution": {
     "iopub.execute_input": "2023-12-03T15:17:30.479600Z",
     "iopub.status.busy": "2023-12-03T15:17:30.479332Z",
     "iopub.status.idle": "2023-12-03T18:12:25.543478Z",
     "shell.execute_reply": "2023-12-03T18:12:25.542474Z"
    },
    "papermill": {
     "duration": 10495.077196,
     "end_time": "2023-12-03T18:12:25.545895",
     "exception": false,
     "start_time": "2023-12-03T15:17:30.468699",
     "status": "completed"
    },
    "tags": []
   },
   "outputs": [
    {
     "name": "stdout",
     "output_type": "stream",
     "text": [
      "Downloading https://www.cs.toronto.edu/~kriz/cifar-10-python.tar.gz to ./data/cifar-10-python.tar.gz\n"
     ]
    },
    {
     "name": "stderr",
     "output_type": "stream",
     "text": [
      "100%|██████████| 170498071/170498071 [00:08<00:00, 20524206.53it/s]\n"
     ]
    },
    {
     "name": "stdout",
     "output_type": "stream",
     "text": [
      "Extracting ./data/cifar-10-python.tar.gz to ./data\n"
     ]
    },
    {
     "name": "stderr",
     "output_type": "stream",
     "text": [
      "/opt/conda/lib/python3.10/site-packages/torchvision/models/_utils.py:208: UserWarning: The parameter 'pretrained' is deprecated since 0.13 and may be removed in the future, please use 'weights' instead.\n",
      "  warnings.warn(\n",
      "/opt/conda/lib/python3.10/site-packages/torchvision/models/_utils.py:223: UserWarning: Arguments other than a weight enum or `None` for 'weights' are deprecated since 0.13 and may be removed in the future. The current behavior is equivalent to passing `weights=DenseNet121_Weights.IMAGENET1K_V1`. You can also use `weights=DenseNet121_Weights.DEFAULT` to get the most up-to-date weights.\n",
      "  warnings.warn(msg)\n",
      "Downloading: \"https://download.pytorch.org/models/densenet121-a639ec97.pth\" to /root/.cache/torch/hub/checkpoints/densenet121-a639ec97.pth\n",
      "100%|██████████| 30.8M/30.8M [00:00<00:00, 270MB/s]\n"
     ]
    },
    {
     "name": "stdout",
     "output_type": "stream",
     "text": [
      "[1,  2000] loss: 2.391\n",
      "[1,  4000] loss: 2.218\n",
      "[1,  6000] loss: 2.051\n",
      "[2,  2000] loss: 1.905\n",
      "[2,  4000] loss: 1.840\n",
      "[2,  6000] loss: 1.800\n",
      "[3,  2000] loss: 1.670\n",
      "[3,  4000] loss: 1.612\n",
      "[3,  6000] loss: 1.588\n",
      "[4,  2000] loss: 1.490\n",
      "[4,  4000] loss: 1.465\n",
      "[4,  6000] loss: 1.413\n",
      "[5,  2000] loss: 1.369\n",
      "[5,  4000] loss: 1.344\n",
      "[5,  6000] loss: 1.287\n",
      "[6,  2000] loss: 1.241\n",
      "[6,  4000] loss: 1.216\n",
      "[6,  6000] loss: 1.215\n",
      "[7,  2000] loss: 1.150\n",
      "[7,  4000] loss: 1.153\n",
      "[7,  6000] loss: 1.115\n",
      "[8,  2000] loss: 1.089\n",
      "[8,  4000] loss: 1.085\n",
      "[8,  6000] loss: 1.092\n",
      "[9,  2000] loss: 1.022\n",
      "[9,  4000] loss: 1.024\n",
      "[9,  6000] loss: 1.026\n",
      "[10,  2000] loss: 0.990\n",
      "[10,  4000] loss: 0.971\n",
      "[10,  6000] loss: 0.965\n",
      "[11,  2000] loss: 0.923\n",
      "[11,  4000] loss: 0.927\n",
      "[11,  6000] loss: 0.940\n",
      "[12,  2000] loss: 0.883\n",
      "[12,  4000] loss: 0.933\n",
      "[12,  6000] loss: 0.891\n",
      "[13,  2000] loss: 0.849\n",
      "[13,  4000] loss: 0.861\n",
      "[13,  6000] loss: 0.893\n",
      "[14,  2000] loss: 0.799\n",
      "[14,  4000] loss: 0.850\n",
      "[14,  6000] loss: 0.825\n",
      "[15,  2000] loss: 0.800\n",
      "[15,  4000] loss: 0.787\n",
      "[15,  6000] loss: 0.806\n",
      "[16,  2000] loss: 0.763\n",
      "[16,  4000] loss: 0.742\n",
      "[16,  6000] loss: 0.795\n",
      "[17,  2000] loss: 0.734\n",
      "[17,  4000] loss: 0.755\n",
      "[17,  6000] loss: 0.742\n",
      "[18,  2000] loss: 0.703\n",
      "[18,  4000] loss: 0.698\n",
      "[18,  6000] loss: 0.725\n",
      "[19,  2000] loss: 0.682\n",
      "[19,  4000] loss: 0.696\n",
      "[19,  6000] loss: 0.696\n",
      "[20,  2000] loss: 0.624\n",
      "[20,  4000] loss: 0.660\n",
      "[20,  6000] loss: 0.668\n",
      "[21,  2000] loss: 0.623\n",
      "[21,  4000] loss: 0.671\n",
      "[21,  6000] loss: 0.632\n",
      "[22,  2000] loss: 0.620\n",
      "[22,  4000] loss: 0.611\n",
      "[22,  6000] loss: 0.637\n",
      "[23,  2000] loss: 0.591\n",
      "[23,  4000] loss: 0.575\n",
      "[23,  6000] loss: 0.610\n",
      "[24,  2000] loss: 0.571\n",
      "[24,  4000] loss: 0.580\n",
      "[24,  6000] loss: 0.622\n",
      "[25,  2000] loss: 0.522\n",
      "[25,  4000] loss: 0.583\n",
      "[25,  6000] loss: 0.577\n",
      "Finished Training\n",
      "Accuracy of the network on the 10000 test images: 71 %\n",
      "Confusion Matrix: [[747  15  42  25  40  12  16  21  45  49]\n",
      " [ 11 829   7   7   9   5  22   2  14 120]\n",
      " [ 51   2 565  46 106  50  85  43   3   9]\n",
      " [ 14   3  63 505 102 155 132  40   4  17]\n",
      " [ 21   1  56  35 695  42  57  66   1   2]\n",
      " [  8   4  51 162  54 603  90  61   3   8]\n",
      " [  7   3  35  36  54  15 848   8   0   4]\n",
      " [ 12   0  22  28  64  49  13 774   3  17]\n",
      " [ 71  34  23  17  20  10  18   3 774  36]\n",
      " [ 14  46   7  13   4   5  12  11  16 821]]\n",
      "Precision: 0.7198400088902889\n",
      "Recall: 0.7174571449138409\n"
     ]
    },
    {
     "data": {
      "image/png": "[encoded data removed]",
      "text/plain": [
       "<Figure size 640x480 with 1 Axes>"
      ]
     },
     "metadata": {},
     "output_type": "display_data"
    }
   ],
   "source": [
    "# Load the CIFAR10 dataset\n",
    "dataset = torchvision.datasets.CIFAR10(root='./data', train=True, transform=transform, download=True)\n",
    "\n",
    "# Define the ratios\n",
    "train_ratio = 0.6\n",
    "val_ratio = test_ratio = 0.2\n",
    "\n",
    "# Calculate the lengths\n",
    "total = len(dataset)\n",
    "train_len = int(train_ratio * total)\n",
    "val_len = int(val_ratio * total)\n",
    "test_len = total - train_len - val_len\n",
    "\n",
    "# Split the dataset\n",
    "train_dataset, val_dataset, test_dataset = random_split(dataset, [train_len, val_len, test_len])\n",
    "\n",
    "# Create data loaders\n",
    "trainloader = torch.utils.data.DataLoader(train_dataset, batch_size=4, shuffle=True, num_workers=2)\n",
    "valloader = torch.utils.data.DataLoader(val_dataset, batch_size=4, shuffle=False, num_workers=2)\n",
    "testloader = torch.utils.data.DataLoader(test_dataset, batch_size=4, shuffle=False, num_workers=2)\n",
    "\n",
    "# Define the CNN model\n",
    "class Net(nn.Module):  \n",
    "    def __init__(self):\n",
    "        super(Net, self).__init__()\n",
    "        self.encoder = torchvision.models.densenet121(pretrained=True)\n",
    "        self.encoder.features.conv0 = nn.Conv2d(3, 64, kernel_size=(7, 7), stride=(2, 2), padding=(3, 3), bias=False)\n",
    "        self.encoder.classifier = nn.Identity()\n",
    "        self.fc = nn.Linear(1024, 10)\n",
    "#         self.encoder = torchvision.models.resnet152(zero_init_residual=True)\n",
    "#         self.encoder.conv1 = nn.Conv2d(3, 64, kernel_size=(7, 7), stride=(2, 2), padding=(3, 3), bias=False)\n",
    "#         self.encoder.fc = nn.Identity()\n",
    "#         self.fc = nn.Linear(2048, 10)\n",
    "        \n",
    "\n",
    "    def forward(self, x):\n",
    "        features = self.encoder(x)\n",
    "        features_np = features# Convert to numpy array\n",
    "\n",
    "        return self.fc(features_np)\n",
    "      \n",
    "\n",
    "net = Net()\n",
    "net.to(device)\n",
    "\n",
    "# Define a Loss function and optimizer\n",
    "criterion = nn.CrossEntropyLoss()\n",
    "optimizer = optim.Adam(net.parameters(), lr=0.001)\n",
    "\n",
    "# Train the network\n",
    "train_losses = []\n",
    "val_losses = []\n",
    "for epoch in range(25):  # loop over the dataset multiple times\n",
    "    running_loss = 0.0\n",
    "    for i, data in enumerate(trainloader, 0):\n",
    "        # get the inputs; data is a list of [inputs, labels]\n",
    "       \n",
    "        inputs, labels = data[0].to(device), data[1].to(device)\n",
    "\n",
    "        # zero the parameter gradients\n",
    "        optimizer.zero_grad()\n",
    "\n",
    "        # forward + backward + optimize\n",
    "        outputs = net(inputs)\n",
    "        loss = criterion(outputs, labels)\n",
    "        loss.backward()\n",
    "        optimizer.step()\n",
    "\n",
    "        # print statistics\n",
    "        running_loss += loss.item()\n",
    "        if i % 2000 == 1999:    # print every 2000 mini-batches\n",
    "            print('[%d, %5d] loss: %.3f' %\n",
    "                  (epoch + 1, i + 1, running_loss / 2000))\n",
    "            running_loss = 0.0\n",
    "\n",
    "    train_losses.append(running_loss / len(trainloader))\n",
    "    val_losses.append(running_loss / len(valloader))\n",
    "\n",
    "print('Finished Training')\n",
    "\n",
    "# Test the network on the test data\n",
    "correct = 0\n",
    "total = 0\n",
    "all_labels = []\n",
    "all_predictions = []\n",
    "with torch.no_grad():\n",
    "    for data in testloader:\n",
    "        \n",
    "        images, labels = data[0].to(device), data[1].to(device)\n",
    "        outputs = net(images)\n",
    "        _, predicted = torch.max(outputs.data, 1)\n",
    "        total += labels.size(0)\n",
    "        correct += (predicted == labels).sum().item()\n",
    "        \n",
    "        all_labels.extend(labels.cpu().numpy())  # move labels back to CPU\n",
    "        all_predictions.extend(predicted.cpu().numpy())\n",
    "\n",
    "print('Accuracy of the network on the 10000 test images: %d %%' % (\n",
    "    100 * correct / total))\n",
    "\n",
    "# Calculate confusion matrix, precision and recall\n",
    "cm = confusion_matrix(all_labels, all_predictions)\n",
    "precision = precision_score(all_labels, all_predictions, average='macro')\n",
    "recall = recall_score(all_labels, all_predictions, average='macro')\n",
    "print('Confusion Matrix:', cm)\n",
    "print('Precision:', precision)\n",
    "print('Recall:', recall)\n",
    "\n",
    "# Plot training and validation loss\n",
    "plt.plot(train_losses, label='Training Loss')\n",
    "plt.plot(val_losses, label='Validation Loss')\n",
    "plt.title('Training and Validation Loss')\n",
    "plt.xlabel('Epoch')\n",
    "plt.ylabel('Loss')\n",
    "plt.legend()\n",
    "plt.show()\n"
   ]
  },
  {
   "cell_type": "code",
   "execution_count": 7,
   "id": "0b226808",
   "metadata": {
    "execution": {
     "iopub.execute_input": "2023-12-03T18:12:25.595116Z",
     "iopub.status.busy": "2023-12-03T18:12:25.594212Z",
     "iopub.status.idle": "2023-12-03T18:13:21.778408Z",
     "shell.execute_reply": "2023-12-03T18:13:21.777418Z"
    },
    "papermill": {
     "duration": 56.233932,
     "end_time": "2023-12-03T18:13:21.803811",
     "exception": false,
     "start_time": "2023-12-03T18:12:25.569879",
     "status": "completed"
    },
    "tags": []
   },
   "outputs": [
    {
     "name": "stdout",
     "output_type": "stream",
     "text": [
      "Accuracy of the network on the test images: 71 %\n"
     ]
    }
   ],
   "source": [
    "# Evaluate the model on the test dataset\n",
    "correct = 0\n",
    "total = 0\n",
    "all_labels = []\n",
    "all_predictions = []\n",
    "with torch.no_grad():\n",
    "    for data in testloader:\n",
    "        \n",
    "        images, labels = data[0].to(device), data[1].to(device) \n",
    "        #images, labels = data\n",
    "        outputs = net(images)\n",
    "        _, predicted = torch.max(outputs.data, 1)\n",
    "        total += labels.size(0)\n",
    "        correct += (predicted == labels).sum().item()\n",
    "        all_labels.extend(labels)\n",
    "        all_predictions.extend(predicted)\n",
    "\n",
    "print('Accuracy of the network on the test images: %d %%' % (\n",
    "    100 * correct / total))"
   ]
  },
  {
   "cell_type": "code",
   "execution_count": null,
   "id": "e1a643d6",
   "metadata": {
    "papermill": {
     "duration": 0.022693,
     "end_time": "2023-12-03T18:13:21.849495",
     "exception": false,
     "start_time": "2023-12-03T18:13:21.826802",
     "status": "completed"
    },
    "tags": []
   },
   "outputs": [],
   "source": []
  },
  {
   "cell_type": "code",
   "execution_count": null,
   "id": "b4e4512d",
   "metadata": {
    "papermill": {
     "duration": 0.023637,
     "end_time": "2023-12-03T18:13:21.896514",
     "exception": false,
     "start_time": "2023-12-03T18:13:21.872877",
     "status": "completed"
    },
    "tags": []
   },
   "outputs": [],
   "source": []
  }
 ],
 "metadata": {
  "kaggle": {
   "accelerator": "gpu",
   "dataSources": [],
   "dockerImageVersionId": 30588,
   "isGpuEnabled": true,
   "isInternetEnabled": true,
   "language": "python",
   "sourceType": "notebook"
  },
  "kernelspec": {
   "display_name": "Python 3",
   "language": "python",
   "name": "python3"
  },
  "language_info": {
   "codemirror_mode": {
    "name": "ipython",
    "version": 3
   },
   "file_extension": ".py",
   "mimetype": "text/x-python",
   "name": "python",
   "nbconvert_exporter": "python",
   "pygments_lexer": "ipython3",
   "version": "3.10.12"
  },
  "papermill": {
   "default_parameters": {},
   "duration": 10573.619265,
   "end_time": "2023-12-03T18:13:23.968344",
   "environment_variables": {},
   "exception": null,
   "input_path": "__notebook__.ipynb",
   "output_path": "__notebook__.ipynb",
   "parameters": {},
   "start_time": "2023-12-03T15:17:10.349079",
   "version": "2.4.0"
  }
 },
 "nbformat": 4,
 "nbformat_minor": 5
}
