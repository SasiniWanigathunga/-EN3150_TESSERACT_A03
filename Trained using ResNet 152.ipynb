{
 "cells": [
  {
   "cell_type": "code",
   "execution_count": 1,
   "id": "5149013a",
   "metadata": {
    "_cell_guid": "b1076dfc-b9ad-4769-8c92-a6c4dae69d19",
    "_uuid": "8f2839f25d086af736a60e9eeb907d3b93b6e0e5",
    "execution": {
     "iopub.execute_input": "2023-12-03T08:45:47.469551Z",
     "iopub.status.busy": "2023-12-03T08:45:47.469182Z",
     "iopub.status.idle": "2023-12-03T08:45:51.867115Z",
     "shell.execute_reply": "2023-12-03T08:45:51.866232Z"
    },
    "papermill": {
     "duration": 4.405397,
     "end_time": "2023-12-03T08:45:51.869512",
     "exception": false,
     "start_time": "2023-12-03T08:45:47.464115",
     "status": "completed"
    },
    "tags": []
   },
   "outputs": [
    {
     "name": "stderr",
     "output_type": "stream",
     "text": [
      "/opt/conda/lib/python3.10/site-packages/scipy/__init__.py:146: UserWarning: A NumPy version >=1.16.5 and <1.23.0 is required for this version of SciPy (detected version 1.24.3\n",
      "  warnings.warn(f\"A NumPy version >={np_minversion} and <{np_maxversion}\"\n"
     ]
    }
   ],
   "source": [
    "import torch\n",
    "import torch.nn as nn\n",
    "import torch.optim as optim\n",
    "import torchvision\n",
    "import torchvision.models as models\n",
    "import torch.nn.functional as F\n",
    "import torchvision.transforms as transforms\n",
    "from sklearn.metrics import confusion_matrix,precision_score,recall_score\n",
    "import numpy as np\n",
    "import matplotlib.pyplot as plt\n",
    "import torch.nn.functional as F\n",
    "from torch.utils.data import random_split"
   ]
  },
  {
   "cell_type": "code",
   "execution_count": 2,
   "id": "648f48e2",
   "metadata": {
    "execution": {
     "iopub.execute_input": "2023-12-03T08:45:51.879215Z",
     "iopub.status.busy": "2023-12-03T08:45:51.878223Z",
     "iopub.status.idle": "2023-12-03T08:45:51.883552Z",
     "shell.execute_reply": "2023-12-03T08:45:51.882656Z"
    },
    "papermill": {
     "duration": 0.011886,
     "end_time": "2023-12-03T08:45:51.885445",
     "exception": false,
     "start_time": "2023-12-03T08:45:51.873559",
     "status": "completed"
    },
    "tags": []
   },
   "outputs": [],
   "source": [
    "# Define data transformations ( optional , but recommended )\n",
    "transform = transforms.Compose([\n",
    "    transforms.ToTensor(),\n",
    "    transforms.Normalize((0.5, 0.5, 0.5), (0.5, 0.5, 0.5))])"
   ]
  },
  {
   "cell_type": "code",
   "execution_count": 3,
   "id": "adfe6de3",
   "metadata": {
    "execution": {
     "iopub.execute_input": "2023-12-03T08:45:51.892964Z",
     "iopub.status.busy": "2023-12-03T08:45:51.892651Z",
     "iopub.status.idle": "2023-12-03T08:46:04.186158Z",
     "shell.execute_reply": "2023-12-03T08:46:04.185018Z"
    },
    "papermill": {
     "duration": 12.299655,
     "end_time": "2023-12-03T08:46:04.188253",
     "exception": false,
     "start_time": "2023-12-03T08:45:51.888598",
     "status": "completed"
    },
    "tags": []
   },
   "outputs": [
    {
     "name": "stdout",
     "output_type": "stream",
     "text": [
      "Downloading https://www.cs.toronto.edu/~kriz/cifar-10-python.tar.gz to ./data /cifar-10-python.tar.gz\n"
     ]
    },
    {
     "name": "stderr",
     "output_type": "stream",
     "text": [
      "100%|██████████| 170498071/170498071 [00:08<00:00, 20887064.98it/s]\n"
     ]
    },
    {
     "name": "stdout",
     "output_type": "stream",
     "text": [
      "Extracting ./data /cifar-10-python.tar.gz to ./data \n",
      "Dataset CIFAR10\n",
      "    Number of datapoints: 50000\n",
      "    Root location: ./data \n",
      "    Split: Train\n",
      "    StandardTransform\n",
      "Transform: Compose(\n",
      "               ToTensor()\n",
      "               Normalize(mean=(0.5, 0.5, 0.5), std=(0.5, 0.5, 0.5))\n",
      "           )\n"
     ]
    }
   ],
   "source": [
    "# Load the training dataset\n",
    "train_dataset = torchvision.datasets.CIFAR10(root ='./data ', train = True, transform = transform, download =True)\n",
    "print(train_dataset)"
   ]
  },
  {
   "cell_type": "code",
   "execution_count": 4,
   "id": "305e81f1",
   "metadata": {
    "execution": {
     "iopub.execute_input": "2023-12-03T08:46:04.208926Z",
     "iopub.status.busy": "2023-12-03T08:46:04.208568Z",
     "iopub.status.idle": "2023-12-03T08:46:04.893884Z",
     "shell.execute_reply": "2023-12-03T08:46:04.892931Z"
    },
    "papermill": {
     "duration": 0.698178,
     "end_time": "2023-12-03T08:46:04.896108",
     "exception": false,
     "start_time": "2023-12-03T08:46:04.197930",
     "status": "completed"
    },
    "tags": []
   },
   "outputs": [
    {
     "name": "stdout",
     "output_type": "stream",
     "text": [
      "Files already downloaded and verified\n",
      "Dataset CIFAR10\n",
      "    Number of datapoints: 10000\n",
      "    Root location: ./data \n",
      "    Split: Test\n",
      "    StandardTransform\n",
      "Transform: Compose(\n",
      "               ToTensor()\n",
      "               Normalize(mean=(0.5, 0.5, 0.5), std=(0.5, 0.5, 0.5))\n",
      "           )\n"
     ]
    }
   ],
   "source": [
    "# Load the testing dataset\n",
    "test_dataset = torchvision.datasets.CIFAR10(root ='./data ', train = False, transform = transform, download =True)\n",
    "print(test_dataset)"
   ]
  },
  {
   "cell_type": "code",
   "execution_count": 5,
   "id": "4305b2d0",
   "metadata": {
    "execution": {
     "iopub.execute_input": "2023-12-03T08:46:04.916970Z",
     "iopub.status.busy": "2023-12-03T08:46:04.916345Z",
     "iopub.status.idle": "2023-12-03T08:46:04.972232Z",
     "shell.execute_reply": "2023-12-03T08:46:04.971157Z"
    },
    "papermill": {
     "duration": 0.068636,
     "end_time": "2023-12-03T08:46:04.974266",
     "exception": false,
     "start_time": "2023-12-03T08:46:04.905630",
     "status": "completed"
    },
    "tags": []
   },
   "outputs": [
    {
     "name": "stdout",
     "output_type": "stream",
     "text": [
      "Device: cuda\n"
     ]
    }
   ],
   "source": [
    "device = torch.device(\"cuda\" if torch.cuda.is_available() else \"cpu\")\n",
    "print(\"Device:\", device)"
   ]
  },
  {
   "cell_type": "code",
   "execution_count": 6,
   "id": "f5194d14",
   "metadata": {
    "execution": {
     "iopub.execute_input": "2023-12-03T08:46:04.996121Z",
     "iopub.status.busy": "2023-12-03T08:46:04.995252Z",
     "iopub.status.idle": "2023-12-03T11:33:51.739860Z",
     "shell.execute_reply": "2023-12-03T11:33:51.738837Z"
    },
    "papermill": {
     "duration": 10066.757955,
     "end_time": "2023-12-03T11:33:51.742088",
     "exception": false,
     "start_time": "2023-12-03T08:46:04.984133",
     "status": "completed"
    },
    "tags": []
   },
   "outputs": [
    {
     "name": "stdout",
     "output_type": "stream",
     "text": [
      "Downloading https://www.cs.toronto.edu/~kriz/cifar-10-python.tar.gz to ./data/cifar-10-python.tar.gz\n"
     ]
    },
    {
     "name": "stderr",
     "output_type": "stream",
     "text": [
      "100%|██████████| 170498071/170498071 [00:08<00:00, 20653144.96it/s]\n"
     ]
    },
    {
     "name": "stdout",
     "output_type": "stream",
     "text": [
      "Extracting ./data/cifar-10-python.tar.gz to ./data\n",
      "[1,  2000] loss: 2.353\n",
      "[1,  4000] loss: 2.030\n",
      "[1,  6000] loss: 1.927\n",
      "[2,  2000] loss: 1.797\n",
      "[2,  4000] loss: 1.719\n",
      "[2,  6000] loss: 1.703\n",
      "[3,  2000] loss: 1.619\n",
      "[3,  4000] loss: 1.590\n",
      "[3,  6000] loss: 1.545\n",
      "[4,  2000] loss: 1.466\n",
      "[4,  4000] loss: 1.465\n",
      "[4,  6000] loss: 1.470\n",
      "[5,  2000] loss: 1.389\n",
      "[5,  4000] loss: 1.366\n",
      "[5,  6000] loss: 1.368\n",
      "[6,  2000] loss: 1.295\n",
      "[6,  4000] loss: 1.264\n",
      "[6,  6000] loss: 1.290\n",
      "[7,  2000] loss: 1.216\n",
      "[7,  4000] loss: 1.192\n",
      "[7,  6000] loss: 1.184\n",
      "[8,  2000] loss: 1.131\n",
      "[8,  4000] loss: 1.113\n",
      "[8,  6000] loss: 1.111\n",
      "[9,  2000] loss: 1.060\n",
      "[9,  4000] loss: 1.064\n",
      "[9,  6000] loss: 1.050\n",
      "[10,  2000] loss: 0.985\n",
      "[10,  4000] loss: 0.975\n",
      "[10,  6000] loss: 0.988\n",
      "[11,  2000] loss: 0.929\n",
      "[11,  4000] loss: 0.948\n",
      "[11,  6000] loss: 0.920\n",
      "[12,  2000] loss: 0.839\n",
      "[12,  4000] loss: 0.877\n",
      "[12,  6000] loss: 0.883\n",
      "[13,  2000] loss: 0.790\n",
      "[13,  4000] loss: 0.809\n",
      "[13,  6000] loss: 0.836\n",
      "[14,  2000] loss: 0.763\n",
      "[14,  4000] loss: 0.751\n",
      "[14,  6000] loss: 0.773\n",
      "[15,  2000] loss: 0.698\n",
      "[15,  4000] loss: 0.695\n",
      "[15,  6000] loss: 0.720\n",
      "[16,  2000] loss: 0.660\n",
      "[16,  4000] loss: 0.671\n",
      "[16,  6000] loss: 0.664\n",
      "[17,  2000] loss: 0.583\n",
      "[17,  4000] loss: 0.605\n",
      "[17,  6000] loss: 0.639\n",
      "[18,  2000] loss: 0.554\n",
      "[18,  4000] loss: 0.555\n",
      "[18,  6000] loss: 0.575\n",
      "[19,  2000] loss: 0.515\n",
      "[19,  4000] loss: 0.526\n",
      "[19,  6000] loss: 0.522\n",
      "[20,  2000] loss: 0.460\n",
      "[20,  4000] loss: 0.491\n",
      "[20,  6000] loss: 0.516\n",
      "Finished Training\n",
      "Accuracy of the network on the 10000 test images: 68 %\n",
      "Confusion Matrix: [[749  18  48  37  36   3   5   8  62  38]\n",
      " [ 36 772   9  17   7   4  15   2  72  97]\n",
      " [ 53   1 612 109  99  31  47  17  10   9]\n",
      " [ 20   4  79 592  79  96  89  20  19  11]\n",
      " [ 21   1  75  88 651  21  47  79   5   0]\n",
      " [  7   2  78 282  66 457  56  43  11   9]\n",
      " [  7   4  62  77  41   7 742   2  14  11]\n",
      " [ 14   2  52  86  93  54  15 675   4  10]\n",
      " [ 59  10  10  32   8   2   3   3 824  31]\n",
      " [ 30  53  28  37   1   5  16  13  35 797]]\n",
      "Precision: 0.700121266269004\n",
      "Recall: 0.687517977054051\n"
     ]
    },
    {
     "data": {
      "image/png": "[encoded data removed]",
      "text/plain": [
       "<Figure size 640x480 with 1 Axes>"
      ]
     },
     "metadata": {},
     "output_type": "display_data"
    }
   ],
   "source": [
    "# Load the CIFAR10 dataset\n",
    "dataset = torchvision.datasets.CIFAR10(root='./data', train=True, transform=transform, download=True)\n",
    "\n",
    "# Define the ratios\n",
    "train_ratio = 0.6\n",
    "val_ratio = test_ratio = 0.2\n",
    "\n",
    "# Calculate the lengths\n",
    "total = len(dataset)\n",
    "train_len = int(train_ratio * total)\n",
    "val_len = int(val_ratio * total)\n",
    "test_len = total - train_len - val_len\n",
    "\n",
    "# Split the dataset\n",
    "train_dataset, val_dataset, test_dataset = random_split(dataset, [train_len, val_len, test_len])\n",
    "\n",
    "# Create data loaders\n",
    "trainloader = torch.utils.data.DataLoader(train_dataset, batch_size=4, shuffle=True, num_workers=2)\n",
    "valloader = torch.utils.data.DataLoader(val_dataset, batch_size=4, shuffle=False, num_workers=2)\n",
    "testloader = torch.utils.data.DataLoader(test_dataset, batch_size=4, shuffle=False, num_workers=2)\n",
    "\n",
    "# Define the CNN model\n",
    "class Net(nn.Module):  \n",
    "    def __init__(self):\n",
    "        super(Net, self).__init__()\n",
    "        self.encoder = torchvision.models.resnet152(zero_init_residual=True)\n",
    "        self.encoder.conv1 = nn.Conv2d(3, 64, kernel_size=(7, 7), stride=(2, 2), padding=(3, 3), bias=False)\n",
    "        self.encoder.fc = nn.Identity()\n",
    "        self.fc = nn.Linear(2048, 10)\n",
    "        \n",
    "\n",
    "    def forward(self, x):\n",
    "        features = self.encoder(x)\n",
    "        features_np = features# Convert to numpy array\n",
    "\n",
    "        return self.fc(features_np)\n",
    "      \n",
    "\n",
    "net = Net()\n",
    "net.to(device)\n",
    "\n",
    "# Define a Loss function and optimizer\n",
    "criterion = nn.CrossEntropyLoss()\n",
    "optimizer = optim.Adam(net.parameters(), lr=0.001)\n",
    "\n",
    "# Train the network\n",
    "train_losses = []\n",
    "val_losses = []\n",
    "for epoch in range(20):  # loop over the dataset multiple times\n",
    "    running_loss = 0.0\n",
    "    for i, data in enumerate(trainloader, 0):\n",
    "        # get the inputs; data is a list of [inputs, labels]\n",
    "       \n",
    "        inputs, labels = data[0].to(device), data[1].to(device)\n",
    "\n",
    "        # zero the parameter gradients\n",
    "        optimizer.zero_grad()\n",
    "\n",
    "        # forward + backward + optimize\n",
    "        outputs = net(inputs)\n",
    "        loss = criterion(outputs, labels)\n",
    "        loss.backward()\n",
    "        optimizer.step()\n",
    "\n",
    "        # print statistics\n",
    "        running_loss += loss.item()\n",
    "        if i % 2000 == 1999:    # print every 2000 mini-batches\n",
    "            print('[%d, %5d] loss: %.3f' %\n",
    "                  (epoch + 1, i + 1, running_loss / 2000))\n",
    "            running_loss = 0.0\n",
    "\n",
    "    train_losses.append(running_loss / len(trainloader))\n",
    "    val_losses.append(running_loss / len(valloader))\n",
    "\n",
    "print('Finished Training')\n",
    "\n",
    "# Test the network on the test data\n",
    "correct = 0\n",
    "total = 0\n",
    "all_labels = []\n",
    "all_predictions = []\n",
    "with torch.no_grad():\n",
    "    for data in testloader:\n",
    "        \n",
    "        images, labels = data[0].to(device), data[1].to(device)\n",
    "        outputs = net(images)\n",
    "        _, predicted = torch.max(outputs.data, 1)\n",
    "        total += labels.size(0)\n",
    "        correct += (predicted == labels).sum().item()\n",
    "        \n",
    "        all_labels.extend(labels.cpu().numpy())  # move labels back to CPU\n",
    "        all_predictions.extend(predicted.cpu().numpy())\n",
    "\n",
    "print('Accuracy of the network on the 10000 test images: %d %%' % (\n",
    "    100 * correct / total))\n",
    "\n",
    "# Calculate confusion matrix, precision and recall\n",
    "cm = confusion_matrix(all_labels, all_predictions)\n",
    "precision = precision_score(all_labels, all_predictions, average='macro')\n",
    "recall = recall_score(all_labels, all_predictions, average='macro')\n",
    "print('Confusion Matrix:', cm)\n",
    "print('Precision:', precision)\n",
    "print('Recall:', recall)\n",
    "\n",
    "# Plot training and validation loss\n",
    "plt.plot(train_losses, label='Training Loss')\n",
    "plt.plot(val_losses, label='Validation Loss')\n",
    "plt.title('Training and Validation Loss')\n",
    "plt.xlabel('Epoch')\n",
    "plt.ylabel('Loss')\n",
    "plt.legend()\n",
    "plt.show()\n"
   ]
  },
  {
   "cell_type": "code",
   "execution_count": 7,
   "id": "e7c8680f",
   "metadata": {
    "execution": {
     "iopub.execute_input": "2023-12-03T11:33:51.786197Z",
     "iopub.status.busy": "2023-12-03T11:33:51.785796Z",
     "iopub.status.idle": "2023-12-03T11:34:53.551708Z",
     "shell.execute_reply": "2023-12-03T11:34:53.548954Z"
    },
    "papermill": {
     "duration": 61.818373,
     "end_time": "2023-12-03T11:34:53.581797",
     "exception": false,
     "start_time": "2023-12-03T11:33:51.763424",
     "status": "completed"
    },
    "tags": []
   },
   "outputs": [
    {
     "name": "stdout",
     "output_type": "stream",
     "text": [
      "Accuracy of the network on the test images: 68 %\n"
     ]
    }
   ],
   "source": [
    "# Evaluate the model on the test dataset\n",
    "correct = 0\n",
    "total = 0\n",
    "all_labels = []\n",
    "all_predictions = []\n",
    "with torch.no_grad():\n",
    "    for data in testloader:\n",
    "        \n",
    "        images, labels = data[0].to(device), data[1].to(device) \n",
    "        #images, labels = data\n",
    "        outputs = net(images)\n",
    "        _, predicted = torch.max(outputs.data, 1)\n",
    "        total += labels.size(0)\n",
    "        correct += (predicted == labels).sum().item()\n",
    "        all_labels.extend(labels)\n",
    "        all_predictions.extend(predicted)\n",
    "\n",
    "print('Accuracy of the network on the test images: %d %%' % (\n",
    "    100 * correct / total))"
   ]
  },
  {
   "cell_type": "code",
   "execution_count": null,
   "id": "56a34fe6",
   "metadata": {
    "papermill": {
     "duration": 0.021357,
     "end_time": "2023-12-03T11:34:53.629258",
     "exception": false,
     "start_time": "2023-12-03T11:34:53.607901",
     "status": "completed"
    },
    "tags": []
   },
   "outputs": [],
   "source": []
  }
 ],
 "metadata": {
  "kaggle": {
   "accelerator": "gpu",
   "dataSources": [],
   "dockerImageVersionId": 30588,
   "isGpuEnabled": true,
   "isInternetEnabled": true,
   "language": "python",
   "sourceType": "notebook"
  },
  "kernelspec": {
   "display_name": "Python 3",
   "language": "python",
   "name": "python3"
  },
  "language_info": {
   "codemirror_mode": {
    "name": "ipython",
    "version": 3
   },
   "file_extension": ".py",
   "mimetype": "text/x-python",
   "name": "python",
   "nbconvert_exporter": "python",
   "pygments_lexer": "ipython3",
   "version": "3.10.12"
  },
  "papermill": {
   "default_parameters": {},
   "duration": 10151.917589,
   "end_time": "2023-12-03T11:34:56.002526",
   "environment_variables": {},
   "exception": null,
   "input_path": "__notebook__.ipynb",
   "output_path": "__notebook__.ipynb",
   "parameters": {},
   "start_time": "2023-12-03T08:45:44.084937",
   "version": "2.4.0"
  }
 },
 "nbformat": 4,
 "nbformat_minor": 5
}
